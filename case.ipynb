{
 "cells": [
  {
   "cell_type": "markdown",
   "metadata": {},
   "source": [
    "# Nubank case"
   ]
  },
  {
   "cell_type": "code",
   "execution_count": null,
   "metadata": {
    "ExecuteTime": {
     "end_time": "2019-06-19T20:30:12.835920Z",
     "start_time": "2019-06-19T20:30:02.485056Z"
    },
    "hide_input": false
   },
   "outputs": [],
   "source": [
    "import pandas as pd"
   ]
  },
  {
   "cell_type": "code",
   "execution_count": null,
   "metadata": {
    "ExecuteTime": {
     "end_time": "2019-06-19T20:30:39.027875Z",
     "start_time": "2019-06-19T20:30:37.686182Z"
    }
   },
   "outputs": [],
   "source": [
    "efile = pd.read_excel('./dataset.xlsx', sheet_name=None)"
   ]
  },
  {
   "cell_type": "code",
   "execution_count": null,
   "metadata": {
    "ExecuteTime": {
     "end_time": "2019-06-19T20:30:40.604397Z",
     "start_time": "2019-06-19T20:30:40.523401Z"
    }
   },
   "outputs": [],
   "source": [
    "efile"
   ]
  },
  {
   "cell_type": "code",
   "execution_count": null,
   "metadata": {
    "ExecuteTime": {
     "end_time": "2019-06-19T20:40:51.674069Z",
     "start_time": "2019-06-19T20:40:51.558069Z"
    }
   },
   "outputs": [],
   "source": [
    "hourly = pd.read_excel('./dataset.xlsx', sheet_name='hourly', header=2)\n",
    "hourly\n",
    "h = pd.melt(hourly, id_vars='hour/shift')\n",
    "h['channel'] = h['variable'].apply(lambda x: x.split('-')[0])\n",
    "h['day'] = h['variable'].apply(lambda x: x.split('-')[1])\n",
    "#h['time'] = pd.to_datetime(h['hour/shift'], format= '%H:%M:%S').dt.time #Unnecessary, it is already recogizing\n",
    "print(h.dtypes)\n",
    "#h.loc[0,'time']\n",
    "h"
   ]
  },
  {
   "cell_type": "code",
   "execution_count": null,
   "metadata": {
    "ExecuteTime": {
     "end_time": "2019-06-19T20:32:23.173188Z",
     "start_time": "2019-06-19T20:32:23.168181Z"
    }
   },
   "outputs": [],
   "source": [
    "job_count = efile['Job count']\n",
    "#hourly = efile['hourly']\n",
    "daily = efile['daily']\n",
    "email_blog = efile['Email Backlog']"
   ]
  },
  {
   "cell_type": "code",
   "execution_count": null,
   "metadata": {
    "ExecuteTime": {
     "end_time": "2019-06-19T20:33:48.486106Z",
     "start_time": "2019-06-19T20:33:48.356104Z"
    }
   },
   "outputs": [],
   "source": [
    "job_count\n",
    "# Month end of date\n",
    "job_count['date_ME'] = pd.to_datetime(job_count['Month'], format='%Y-%m') + pd.offsets.MonthEnd()\n",
    "job_count"
   ]
  },
  {
   "cell_type": "code",
   "execution_count": null,
   "metadata": {},
   "outputs": [],
   "source": []
  },
  {
   "cell_type": "code",
   "execution_count": null,
   "metadata": {},
   "outputs": [],
   "source": []
  }
 ],
 "metadata": {
  "hide_input": false,
  "kernelspec": {
   "display_name": "Python [conda env:nubank]",
   "language": "python",
   "name": "conda-env-nubank-py"
  },
  "language_info": {
   "codemirror_mode": {
    "name": "ipython",
    "version": 3
   },
   "file_extension": ".py",
   "mimetype": "text/x-python",
   "name": "python",
   "nbconvert_exporter": "python",
   "pygments_lexer": "ipython3",
   "version": "3.7.3"
  },
  "toc": {
   "base_numbering": 1,
   "nav_menu": {},
   "number_sections": true,
   "sideBar": true,
   "skip_h1_title": false,
   "title_cell": "Table of Contents",
   "title_sidebar": "Contents",
   "toc_cell": false,
   "toc_position": {
    "height": "calc(100% - 180px)",
    "left": "10px",
    "top": "150px",
    "width": "293.275px"
   },
   "toc_section_display": true,
   "toc_window_display": true
  },
  "varInspector": {
   "cols": {
    "lenName": 16,
    "lenType": 16,
    "lenVar": 40
   },
   "kernels_config": {
    "python": {
     "delete_cmd_postfix": "",
     "delete_cmd_prefix": "del ",
     "library": "var_list.py",
     "varRefreshCmd": "print(var_dic_list())"
    },
    "r": {
     "delete_cmd_postfix": ") ",
     "delete_cmd_prefix": "rm(",
     "library": "var_list.r",
     "varRefreshCmd": "cat(var_dic_list()) "
    }
   },
   "types_to_exclude": [
    "module",
    "function",
    "builtin_function_or_method",
    "instance",
    "_Feature"
   ],
   "window_display": false
  }
 },
 "nbformat": 4,
 "nbformat_minor": 2
}
