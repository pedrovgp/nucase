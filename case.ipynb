{
 "cells": [
  {
   "cell_type": "markdown",
   "metadata": {},
   "source": [
    "# Nubank case"
   ]
  },
  {
   "cell_type": "markdown",
   "metadata": {},
   "source": [
    "## Assumptions\n"
   ]
  },
  {
   "cell_type": "markdown",
   "metadata": {},
   "source": [
    "In email backlogs, the arrival date refers to the begining of the week (since every date there refers to a Monday)"
   ]
  },
  {
   "cell_type": "markdown",
   "metadata": {},
   "source": [
    "## Headers"
   ]
  },
  {
   "cell_type": "markdown",
   "metadata": {},
   "source": [
    "### Imports"
   ]
  },
  {
   "cell_type": "code",
   "execution_count": null,
   "metadata": {
    "ExecuteTime": {
     "end_time": "2019-06-19T20:30:12.835920Z",
     "start_time": "2019-06-19T20:30:02.485056Z"
    },
    "hide_input": false
   },
   "outputs": [],
   "source": [
    "import pandas as pd"
   ]
  },
  {
   "cell_type": "markdown",
   "metadata": {},
   "source": [
    "### Parameters"
   ]
  },
  {
   "cell_type": "markdown",
   "metadata": {},
   "source": [
    "### Functions"
   ]
  },
  {
   "cell_type": "code",
   "execution_count": null,
   "metadata": {},
   "outputs": [],
   "source": [
    "def enhance_datetime(df, dt_col_name):\n",
    "    '''Given a dataframe and a datetime column, decompose the column in its components'''\n",
    "    df[dt_col_name+'__YEAR'] = df[dt_col_name].dt.year\n",
    "    df[dt_col_name+'__MONTH'] = df[dt_col_name].dt.month\n",
    "    df[dt_col_name+'__DAY'] = df[dt_col_name].dt.day\n",
    "    df[dt_col_name+'__WDAY'] = df[dt_col_name].dt.weekday_name.apply(lambda x: x[:3])\n",
    "    \n",
    "    return df"
   ]
  },
  {
   "cell_type": "markdown",
   "metadata": {},
   "source": [
    "### Common data load"
   ]
  },
  {
   "cell_type": "code",
   "execution_count": null,
   "metadata": {
    "ExecuteTime": {
     "end_time": "2019-06-19T20:30:40.604397Z",
     "start_time": "2019-06-19T20:30:40.523401Z"
    }
   },
   "outputs": [],
   "source": [
    "efile = pd.read_excel('./dataset.xlsx', sheet_name=None)\n",
    "efile.keys()"
   ]
  },
  {
   "cell_type": "code",
   "execution_count": null,
   "metadata": {
    "ExecuteTime": {
     "end_time": "2019-06-19T20:40:51.674069Z",
     "start_time": "2019-06-19T20:40:51.558069Z"
    }
   },
   "outputs": [],
   "source": [
    "hourly = pd.read_excel('./dataset.xlsx', sheet_name='hourly', header=2)\n",
    "hourly\n",
    "h = pd.melt(hourly, id_vars='hour/shift')\n",
    "h['channel'] = h['variable'].apply(lambda x: x.split('-')[0])\n",
    "h['day'] = h['variable'].apply(lambda x: x.split('-')[1])\n",
    "#h['time'] = pd.to_datetime(h['hour/shift'], format= '%H:%M:%S').dt.time #Unnecessary, it is already recogizing\n",
    "print(h.dtypes)\n",
    "#h.loc[0,'time']\n",
    "hourly=h\n",
    "hourly[:5]"
   ]
  },
  {
   "cell_type": "markdown",
   "metadata": {},
   "source": [
    "## Logic"
   ]
  },
  {
   "cell_type": "markdown",
   "metadata": {},
   "source": [
    "### Compose hourly dataset\n",
    "\n",
    "Our goal here is to relate all relevant information through their temporal dimension.\n",
    "Some data will need to be upsampled, since we have monthly, weekly and hourly data.\n",
    "\n",
    "Let's put everything in a common hourly frequency. Upsampling assumptions must be explicit.\n",
    "\n",
    "At the end of this section, we should have one unique dataframe with hourly frequency containing number of jobs (upsampled considering daily and hourly distribution percentage)"
   ]
  },
  {
   "cell_type": "markdown",
   "metadata": {},
   "source": [
    "#### Data normalization"
   ]
  },
  {
   "cell_type": "code",
   "execution_count": null,
   "metadata": {
    "ExecuteTime": {
     "end_time": "2019-06-19T20:32:23.173188Z",
     "start_time": "2019-06-19T20:32:23.168181Z"
    }
   },
   "outputs": [],
   "source": [
    "job_count = efile['Job count']\n",
    "#hourly = efile['hourly']\n",
    "daily = efile['daily']\n",
    "email_blog = efile['Email Backlog']"
   ]
  },
  {
   "cell_type": "code",
   "execution_count": null,
   "metadata": {
    "ExecuteTime": {
     "end_time": "2019-06-19T20:33:48.486106Z",
     "start_time": "2019-06-19T20:33:48.356104Z"
    }
   },
   "outputs": [],
   "source": [
    "job_count\n",
    "# Month end of date\n",
    "job_count['date_ME'] = pd.to_datetime(job_count['Month'], format='%Y-%m') + pd.offsets.MonthEnd()\n",
    "job_count"
   ]
  },
  {
   "cell_type": "code",
   "execution_count": null,
   "metadata": {},
   "outputs": [],
   "source": []
  },
  {
   "cell_type": "code",
   "execution_count": null,
   "metadata": {},
   "outputs": [],
   "source": []
  }
 ],
 "metadata": {
  "hide_input": false,
  "kernelspec": {
   "display_name": "Python [conda env:nubank]",
   "language": "python",
   "name": "conda-env-nubank-py"
  },
  "language_info": {
   "codemirror_mode": {
    "name": "ipython",
    "version": 3
   },
   "file_extension": ".py",
   "mimetype": "text/x-python",
   "name": "python",
   "nbconvert_exporter": "python",
   "pygments_lexer": "ipython3",
   "version": "3.7.3"
  },
  "toc": {
   "base_numbering": 1,
   "nav_menu": {},
   "number_sections": true,
   "sideBar": true,
   "skip_h1_title": false,
   "title_cell": "Table of Contents",
   "title_sidebar": "Contents",
   "toc_cell": false,
   "toc_position": {
    "height": "calc(100% - 180px)",
    "left": "10px",
    "top": "150px",
    "width": "293.275px"
   },
   "toc_section_display": true,
   "toc_window_display": true
  },
  "varInspector": {
   "cols": {
    "lenName": 16,
    "lenType": 16,
    "lenVar": 40
   },
   "kernels_config": {
    "python": {
     "delete_cmd_postfix": "",
     "delete_cmd_prefix": "del ",
     "library": "var_list.py",
     "varRefreshCmd": "print(var_dic_list())"
    },
    "r": {
     "delete_cmd_postfix": ") ",
     "delete_cmd_prefix": "rm(",
     "library": "var_list.r",
     "varRefreshCmd": "cat(var_dic_list()) "
    }
   },
   "types_to_exclude": [
    "module",
    "function",
    "builtin_function_or_method",
    "instance",
    "_Feature"
   ],
   "window_display": false
  }
 },
 "nbformat": 4,
 "nbformat_minor": 2
}
